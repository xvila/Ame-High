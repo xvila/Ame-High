{
 "cells": [
  {
   "cell_type": "markdown",
   "metadata": {},
   "source": [
    "![Ames Iowa](../images/Ames_Sign2.jpg)\n",
    "\n",
    "\n",
    "# Predicting Housing Prices\n",
    "\n",
    "The goal of this notebook is to try and predict the `SalePrice` of homes in Ames, Iowa. As per the Kaggle rules this will require some **feature engineering** as well as the usage of **Random Forest** models.\n",
    "\n",
    "The approach I will take is as follows:\n",
    "1. Import the data\n",
    "2. Identify any strong correlations in the data\n",
    "3. Determine if there are missing values\n",
    "4. Remove features that are mostly null\n",
    "5. Impute remaining features with median data (numerical) and most frequent data (categorical)\n",
    "6. Run dat Random Forest\n",
    "\n",
    "The data gathered was provided by Kaggle. The kaggle competition page can be found [here](https://www.kaggle.com/c/house-prices-advanced-regression-techniques).\n"
   ]
  },
  {
   "cell_type": "markdown",
   "metadata": {},
   "source": [
    "## Import all the goodies"
   ]
  },
  {
   "cell_type": "code",
   "execution_count": 1,
   "metadata": {
    "collapsed": false
   },
   "outputs": [],
   "source": [
    "# data handling and prediction\n",
    "import pandas as pd\n",
    "import numpy as np\n",
    "from sklearn.ensemble import RandomForestRegressor, GradientBoostingRegressor\n",
    "from sklearn.model_selection import cross_val_score\n",
    "from sklearn.metrics import mean_squared_error, r2_score\n",
    "from sklearn.externals.six import StringIO\n",
    "from sklearn.model_selection import GridSearchCV\n",
    "from sklearn.preprocessing import LabelEncoder\n",
    "from scipy import stats\n",
    "\n",
    "#visualization\n",
    "%matplotlib inline\n",
    "import seaborn as sns\n",
    "from IPython.display import Image\n",
    "import matplotlib.pyplot as plt\n",
    "import pydotplus"
   ]
  },
  {
   "cell_type": "code",
   "execution_count": 2,
   "metadata": {
    "collapsed": true
   },
   "outputs": [],
   "source": [
    "housing_data_train = pd.read_csv(\"../data/train.csv\",na_values='NA')\n",
    "housing_data_test = pd.read_csv(\"../data/test.csv\",na_values='NA') #does not contain Saleprice column which is what we predict\n",
    "# Convert the headers to lowercase\n",
    "housing_data_train.columns = map(str.lower, housing_data_train.columns)\n",
    "housing_data_test.columns = map(str.lower, housing_data_test.columns)"
   ]
  },
  {
   "cell_type": "markdown",
   "metadata": {},
   "source": [
    "## Let's take a look"
   ]
  },
  {
   "cell_type": "code",
   "execution_count": 3,
   "metadata": {
    "collapsed": false
   },
   "outputs": [
    {
     "data": {
      "text/html": [
       "<div>\n",
       "<table border=\"1\" class=\"dataframe\">\n",
       "  <thead>\n",
       "    <tr style=\"text-align: right;\">\n",
       "      <th></th>\n",
       "      <th>id</th>\n",
       "      <th>mssubclass</th>\n",
       "      <th>mszoning</th>\n",
       "      <th>lotfrontage</th>\n",
       "      <th>lotarea</th>\n",
       "      <th>street</th>\n",
       "      <th>alley</th>\n",
       "      <th>lotshape</th>\n",
       "      <th>landcontour</th>\n",
       "      <th>utilities</th>\n",
       "      <th>...</th>\n",
       "      <th>poolarea</th>\n",
       "      <th>poolqc</th>\n",
       "      <th>fence</th>\n",
       "      <th>miscfeature</th>\n",
       "      <th>miscval</th>\n",
       "      <th>mosold</th>\n",
       "      <th>yrsold</th>\n",
       "      <th>saletype</th>\n",
       "      <th>salecondition</th>\n",
       "      <th>saleprice</th>\n",
       "    </tr>\n",
       "  </thead>\n",
       "  <tbody>\n",
       "    <tr>\n",
       "      <th>0</th>\n",
       "      <td>1</td>\n",
       "      <td>60</td>\n",
       "      <td>RL</td>\n",
       "      <td>65.0</td>\n",
       "      <td>8450</td>\n",
       "      <td>Pave</td>\n",
       "      <td>NaN</td>\n",
       "      <td>Reg</td>\n",
       "      <td>Lvl</td>\n",
       "      <td>AllPub</td>\n",
       "      <td>...</td>\n",
       "      <td>0</td>\n",
       "      <td>NaN</td>\n",
       "      <td>NaN</td>\n",
       "      <td>NaN</td>\n",
       "      <td>0</td>\n",
       "      <td>2</td>\n",
       "      <td>2008</td>\n",
       "      <td>WD</td>\n",
       "      <td>Normal</td>\n",
       "      <td>208500</td>\n",
       "    </tr>\n",
       "    <tr>\n",
       "      <th>1</th>\n",
       "      <td>2</td>\n",
       "      <td>20</td>\n",
       "      <td>RL</td>\n",
       "      <td>80.0</td>\n",
       "      <td>9600</td>\n",
       "      <td>Pave</td>\n",
       "      <td>NaN</td>\n",
       "      <td>Reg</td>\n",
       "      <td>Lvl</td>\n",
       "      <td>AllPub</td>\n",
       "      <td>...</td>\n",
       "      <td>0</td>\n",
       "      <td>NaN</td>\n",
       "      <td>NaN</td>\n",
       "      <td>NaN</td>\n",
       "      <td>0</td>\n",
       "      <td>5</td>\n",
       "      <td>2007</td>\n",
       "      <td>WD</td>\n",
       "      <td>Normal</td>\n",
       "      <td>181500</td>\n",
       "    </tr>\n",
       "    <tr>\n",
       "      <th>2</th>\n",
       "      <td>3</td>\n",
       "      <td>60</td>\n",
       "      <td>RL</td>\n",
       "      <td>68.0</td>\n",
       "      <td>11250</td>\n",
       "      <td>Pave</td>\n",
       "      <td>NaN</td>\n",
       "      <td>IR1</td>\n",
       "      <td>Lvl</td>\n",
       "      <td>AllPub</td>\n",
       "      <td>...</td>\n",
       "      <td>0</td>\n",
       "      <td>NaN</td>\n",
       "      <td>NaN</td>\n",
       "      <td>NaN</td>\n",
       "      <td>0</td>\n",
       "      <td>9</td>\n",
       "      <td>2008</td>\n",
       "      <td>WD</td>\n",
       "      <td>Normal</td>\n",
       "      <td>223500</td>\n",
       "    </tr>\n",
       "    <tr>\n",
       "      <th>3</th>\n",
       "      <td>4</td>\n",
       "      <td>70</td>\n",
       "      <td>RL</td>\n",
       "      <td>60.0</td>\n",
       "      <td>9550</td>\n",
       "      <td>Pave</td>\n",
       "      <td>NaN</td>\n",
       "      <td>IR1</td>\n",
       "      <td>Lvl</td>\n",
       "      <td>AllPub</td>\n",
       "      <td>...</td>\n",
       "      <td>0</td>\n",
       "      <td>NaN</td>\n",
       "      <td>NaN</td>\n",
       "      <td>NaN</td>\n",
       "      <td>0</td>\n",
       "      <td>2</td>\n",
       "      <td>2006</td>\n",
       "      <td>WD</td>\n",
       "      <td>Abnorml</td>\n",
       "      <td>140000</td>\n",
       "    </tr>\n",
       "    <tr>\n",
       "      <th>4</th>\n",
       "      <td>5</td>\n",
       "      <td>60</td>\n",
       "      <td>RL</td>\n",
       "      <td>84.0</td>\n",
       "      <td>14260</td>\n",
       "      <td>Pave</td>\n",
       "      <td>NaN</td>\n",
       "      <td>IR1</td>\n",
       "      <td>Lvl</td>\n",
       "      <td>AllPub</td>\n",
       "      <td>...</td>\n",
       "      <td>0</td>\n",
       "      <td>NaN</td>\n",
       "      <td>NaN</td>\n",
       "      <td>NaN</td>\n",
       "      <td>0</td>\n",
       "      <td>12</td>\n",
       "      <td>2008</td>\n",
       "      <td>WD</td>\n",
       "      <td>Normal</td>\n",
       "      <td>250000</td>\n",
       "    </tr>\n",
       "  </tbody>\n",
       "</table>\n",
       "<p>5 rows × 81 columns</p>\n",
       "</div>"
      ],
      "text/plain": [
       "   id  mssubclass mszoning  lotfrontage  lotarea street alley lotshape  \\\n",
       "0   1          60       RL         65.0     8450   Pave   NaN      Reg   \n",
       "1   2          20       RL         80.0     9600   Pave   NaN      Reg   \n",
       "2   3          60       RL         68.0    11250   Pave   NaN      IR1   \n",
       "3   4          70       RL         60.0     9550   Pave   NaN      IR1   \n",
       "4   5          60       RL         84.0    14260   Pave   NaN      IR1   \n",
       "\n",
       "  landcontour utilities    ...     poolarea poolqc fence miscfeature miscval  \\\n",
       "0         Lvl    AllPub    ...            0    NaN   NaN         NaN       0   \n",
       "1         Lvl    AllPub    ...            0    NaN   NaN         NaN       0   \n",
       "2         Lvl    AllPub    ...            0    NaN   NaN         NaN       0   \n",
       "3         Lvl    AllPub    ...            0    NaN   NaN         NaN       0   \n",
       "4         Lvl    AllPub    ...            0    NaN   NaN         NaN       0   \n",
       "\n",
       "  mosold yrsold  saletype  salecondition  saleprice  \n",
       "0      2   2008        WD         Normal     208500  \n",
       "1      5   2007        WD         Normal     181500  \n",
       "2      9   2008        WD         Normal     223500  \n",
       "3      2   2006        WD        Abnorml     140000  \n",
       "4     12   2008        WD         Normal     250000  \n",
       "\n",
       "[5 rows x 81 columns]"
      ]
     },
     "execution_count": 3,
     "metadata": {},
     "output_type": "execute_result"
    }
   ],
   "source": [
    "housing_data_train.head()"
   ]
  },
  {
   "cell_type": "markdown",
   "metadata": {},
   "source": [
    "Stats for the numerical data"
   ]
  },
  {
   "cell_type": "code",
   "execution_count": 4,
   "metadata": {
    "collapsed": false
   },
   "outputs": [
    {
     "data": {
      "text/html": [
       "<div>\n",
       "<table border=\"1\" class=\"dataframe\">\n",
       "  <thead>\n",
       "    <tr style=\"text-align: right;\">\n",
       "      <th></th>\n",
       "      <th>id</th>\n",
       "      <th>mssubclass</th>\n",
       "      <th>lotfrontage</th>\n",
       "      <th>lotarea</th>\n",
       "      <th>overallqual</th>\n",
       "      <th>overallcond</th>\n",
       "      <th>yearbuilt</th>\n",
       "      <th>yearremodadd</th>\n",
       "      <th>masvnrarea</th>\n",
       "      <th>bsmtfinsf1</th>\n",
       "      <th>...</th>\n",
       "      <th>wooddecksf</th>\n",
       "      <th>openporchsf</th>\n",
       "      <th>enclosedporch</th>\n",
       "      <th>3ssnporch</th>\n",
       "      <th>screenporch</th>\n",
       "      <th>poolarea</th>\n",
       "      <th>miscval</th>\n",
       "      <th>mosold</th>\n",
       "      <th>yrsold</th>\n",
       "      <th>saleprice</th>\n",
       "    </tr>\n",
       "  </thead>\n",
       "  <tbody>\n",
       "    <tr>\n",
       "      <th>count</th>\n",
       "      <td>1460.000000</td>\n",
       "      <td>1460.000000</td>\n",
       "      <td>1201.000000</td>\n",
       "      <td>1460.000000</td>\n",
       "      <td>1460.000000</td>\n",
       "      <td>1460.000000</td>\n",
       "      <td>1460.000000</td>\n",
       "      <td>1460.000000</td>\n",
       "      <td>1452.000000</td>\n",
       "      <td>1460.000000</td>\n",
       "      <td>...</td>\n",
       "      <td>1460.000000</td>\n",
       "      <td>1460.000000</td>\n",
       "      <td>1460.000000</td>\n",
       "      <td>1460.000000</td>\n",
       "      <td>1460.000000</td>\n",
       "      <td>1460.000000</td>\n",
       "      <td>1460.000000</td>\n",
       "      <td>1460.000000</td>\n",
       "      <td>1460.000000</td>\n",
       "      <td>1460.000000</td>\n",
       "    </tr>\n",
       "    <tr>\n",
       "      <th>mean</th>\n",
       "      <td>730.500000</td>\n",
       "      <td>56.897260</td>\n",
       "      <td>70.049958</td>\n",
       "      <td>10516.828082</td>\n",
       "      <td>6.099315</td>\n",
       "      <td>5.575342</td>\n",
       "      <td>1971.267808</td>\n",
       "      <td>1984.865753</td>\n",
       "      <td>103.685262</td>\n",
       "      <td>443.639726</td>\n",
       "      <td>...</td>\n",
       "      <td>94.244521</td>\n",
       "      <td>46.660274</td>\n",
       "      <td>21.954110</td>\n",
       "      <td>3.409589</td>\n",
       "      <td>15.060959</td>\n",
       "      <td>2.758904</td>\n",
       "      <td>43.489041</td>\n",
       "      <td>6.321918</td>\n",
       "      <td>2007.815753</td>\n",
       "      <td>180921.195890</td>\n",
       "    </tr>\n",
       "    <tr>\n",
       "      <th>std</th>\n",
       "      <td>421.610009</td>\n",
       "      <td>42.300571</td>\n",
       "      <td>24.284752</td>\n",
       "      <td>9981.264932</td>\n",
       "      <td>1.382997</td>\n",
       "      <td>1.112799</td>\n",
       "      <td>30.202904</td>\n",
       "      <td>20.645407</td>\n",
       "      <td>181.066207</td>\n",
       "      <td>456.098091</td>\n",
       "      <td>...</td>\n",
       "      <td>125.338794</td>\n",
       "      <td>66.256028</td>\n",
       "      <td>61.119149</td>\n",
       "      <td>29.317331</td>\n",
       "      <td>55.757415</td>\n",
       "      <td>40.177307</td>\n",
       "      <td>496.123024</td>\n",
       "      <td>2.703626</td>\n",
       "      <td>1.328095</td>\n",
       "      <td>79442.502883</td>\n",
       "    </tr>\n",
       "    <tr>\n",
       "      <th>min</th>\n",
       "      <td>1.000000</td>\n",
       "      <td>20.000000</td>\n",
       "      <td>21.000000</td>\n",
       "      <td>1300.000000</td>\n",
       "      <td>1.000000</td>\n",
       "      <td>1.000000</td>\n",
       "      <td>1872.000000</td>\n",
       "      <td>1950.000000</td>\n",
       "      <td>0.000000</td>\n",
       "      <td>0.000000</td>\n",
       "      <td>...</td>\n",
       "      <td>0.000000</td>\n",
       "      <td>0.000000</td>\n",
       "      <td>0.000000</td>\n",
       "      <td>0.000000</td>\n",
       "      <td>0.000000</td>\n",
       "      <td>0.000000</td>\n",
       "      <td>0.000000</td>\n",
       "      <td>1.000000</td>\n",
       "      <td>2006.000000</td>\n",
       "      <td>34900.000000</td>\n",
       "    </tr>\n",
       "    <tr>\n",
       "      <th>25%</th>\n",
       "      <td>365.750000</td>\n",
       "      <td>20.000000</td>\n",
       "      <td>59.000000</td>\n",
       "      <td>7553.500000</td>\n",
       "      <td>5.000000</td>\n",
       "      <td>5.000000</td>\n",
       "      <td>1954.000000</td>\n",
       "      <td>1967.000000</td>\n",
       "      <td>0.000000</td>\n",
       "      <td>0.000000</td>\n",
       "      <td>...</td>\n",
       "      <td>0.000000</td>\n",
       "      <td>0.000000</td>\n",
       "      <td>0.000000</td>\n",
       "      <td>0.000000</td>\n",
       "      <td>0.000000</td>\n",
       "      <td>0.000000</td>\n",
       "      <td>0.000000</td>\n",
       "      <td>5.000000</td>\n",
       "      <td>2007.000000</td>\n",
       "      <td>129975.000000</td>\n",
       "    </tr>\n",
       "    <tr>\n",
       "      <th>50%</th>\n",
       "      <td>730.500000</td>\n",
       "      <td>50.000000</td>\n",
       "      <td>69.000000</td>\n",
       "      <td>9478.500000</td>\n",
       "      <td>6.000000</td>\n",
       "      <td>5.000000</td>\n",
       "      <td>1973.000000</td>\n",
       "      <td>1994.000000</td>\n",
       "      <td>0.000000</td>\n",
       "      <td>383.500000</td>\n",
       "      <td>...</td>\n",
       "      <td>0.000000</td>\n",
       "      <td>25.000000</td>\n",
       "      <td>0.000000</td>\n",
       "      <td>0.000000</td>\n",
       "      <td>0.000000</td>\n",
       "      <td>0.000000</td>\n",
       "      <td>0.000000</td>\n",
       "      <td>6.000000</td>\n",
       "      <td>2008.000000</td>\n",
       "      <td>163000.000000</td>\n",
       "    </tr>\n",
       "    <tr>\n",
       "      <th>75%</th>\n",
       "      <td>1095.250000</td>\n",
       "      <td>70.000000</td>\n",
       "      <td>80.000000</td>\n",
       "      <td>11601.500000</td>\n",
       "      <td>7.000000</td>\n",
       "      <td>6.000000</td>\n",
       "      <td>2000.000000</td>\n",
       "      <td>2004.000000</td>\n",
       "      <td>166.000000</td>\n",
       "      <td>712.250000</td>\n",
       "      <td>...</td>\n",
       "      <td>168.000000</td>\n",
       "      <td>68.000000</td>\n",
       "      <td>0.000000</td>\n",
       "      <td>0.000000</td>\n",
       "      <td>0.000000</td>\n",
       "      <td>0.000000</td>\n",
       "      <td>0.000000</td>\n",
       "      <td>8.000000</td>\n",
       "      <td>2009.000000</td>\n",
       "      <td>214000.000000</td>\n",
       "    </tr>\n",
       "    <tr>\n",
       "      <th>max</th>\n",
       "      <td>1460.000000</td>\n",
       "      <td>190.000000</td>\n",
       "      <td>313.000000</td>\n",
       "      <td>215245.000000</td>\n",
       "      <td>10.000000</td>\n",
       "      <td>9.000000</td>\n",
       "      <td>2010.000000</td>\n",
       "      <td>2010.000000</td>\n",
       "      <td>1600.000000</td>\n",
       "      <td>5644.000000</td>\n",
       "      <td>...</td>\n",
       "      <td>857.000000</td>\n",
       "      <td>547.000000</td>\n",
       "      <td>552.000000</td>\n",
       "      <td>508.000000</td>\n",
       "      <td>480.000000</td>\n",
       "      <td>738.000000</td>\n",
       "      <td>15500.000000</td>\n",
       "      <td>12.000000</td>\n",
       "      <td>2010.000000</td>\n",
       "      <td>755000.000000</td>\n",
       "    </tr>\n",
       "  </tbody>\n",
       "</table>\n",
       "<p>8 rows × 38 columns</p>\n",
       "</div>"
      ],
      "text/plain": [
       "                id   mssubclass  lotfrontage        lotarea  overallqual  \\\n",
       "count  1460.000000  1460.000000  1201.000000    1460.000000  1460.000000   \n",
       "mean    730.500000    56.897260    70.049958   10516.828082     6.099315   \n",
       "std     421.610009    42.300571    24.284752    9981.264932     1.382997   \n",
       "min       1.000000    20.000000    21.000000    1300.000000     1.000000   \n",
       "25%     365.750000    20.000000    59.000000    7553.500000     5.000000   \n",
       "50%     730.500000    50.000000    69.000000    9478.500000     6.000000   \n",
       "75%    1095.250000    70.000000    80.000000   11601.500000     7.000000   \n",
       "max    1460.000000   190.000000   313.000000  215245.000000    10.000000   \n",
       "\n",
       "       overallcond    yearbuilt  yearremodadd   masvnrarea   bsmtfinsf1  \\\n",
       "count  1460.000000  1460.000000   1460.000000  1452.000000  1460.000000   \n",
       "mean      5.575342  1971.267808   1984.865753   103.685262   443.639726   \n",
       "std       1.112799    30.202904     20.645407   181.066207   456.098091   \n",
       "min       1.000000  1872.000000   1950.000000     0.000000     0.000000   \n",
       "25%       5.000000  1954.000000   1967.000000     0.000000     0.000000   \n",
       "50%       5.000000  1973.000000   1994.000000     0.000000   383.500000   \n",
       "75%       6.000000  2000.000000   2004.000000   166.000000   712.250000   \n",
       "max       9.000000  2010.000000   2010.000000  1600.000000  5644.000000   \n",
       "\n",
       "           ...         wooddecksf  openporchsf  enclosedporch    3ssnporch  \\\n",
       "count      ...        1460.000000  1460.000000    1460.000000  1460.000000   \n",
       "mean       ...          94.244521    46.660274      21.954110     3.409589   \n",
       "std        ...         125.338794    66.256028      61.119149    29.317331   \n",
       "min        ...           0.000000     0.000000       0.000000     0.000000   \n",
       "25%        ...           0.000000     0.000000       0.000000     0.000000   \n",
       "50%        ...           0.000000    25.000000       0.000000     0.000000   \n",
       "75%        ...         168.000000    68.000000       0.000000     0.000000   \n",
       "max        ...         857.000000   547.000000     552.000000   508.000000   \n",
       "\n",
       "       screenporch     poolarea       miscval       mosold       yrsold  \\\n",
       "count  1460.000000  1460.000000   1460.000000  1460.000000  1460.000000   \n",
       "mean     15.060959     2.758904     43.489041     6.321918  2007.815753   \n",
       "std      55.757415    40.177307    496.123024     2.703626     1.328095   \n",
       "min       0.000000     0.000000      0.000000     1.000000  2006.000000   \n",
       "25%       0.000000     0.000000      0.000000     5.000000  2007.000000   \n",
       "50%       0.000000     0.000000      0.000000     6.000000  2008.000000   \n",
       "75%       0.000000     0.000000      0.000000     8.000000  2009.000000   \n",
       "max     480.000000   738.000000  15500.000000    12.000000  2010.000000   \n",
       "\n",
       "           saleprice  \n",
       "count    1460.000000  \n",
       "mean   180921.195890  \n",
       "std     79442.502883  \n",
       "min     34900.000000  \n",
       "25%    129975.000000  \n",
       "50%    163000.000000  \n",
       "75%    214000.000000  \n",
       "max    755000.000000  \n",
       "\n",
       "[8 rows x 38 columns]"
      ]
     },
     "execution_count": 4,
     "metadata": {},
     "output_type": "execute_result"
    }
   ],
   "source": [
    "housing_data_train.describe()"
   ]
  },
  {
   "cell_type": "code",
   "execution_count": 5,
   "metadata": {
    "collapsed": false
   },
   "outputs": [
    {
     "data": {
      "text/plain": [
       "count      1460.000000\n",
       "mean     180921.195890\n",
       "std       79442.502883\n",
       "min       34900.000000\n",
       "25%      129975.000000\n",
       "50%      163000.000000\n",
       "75%      214000.000000\n",
       "max      755000.000000\n",
       "Name: saleprice, dtype: float64"
      ]
     },
     "execution_count": 5,
     "metadata": {},
     "output_type": "execute_result"
    }
   ],
   "source": [
    "housing_data_train.saleprice.describe()"
   ]
  },
  {
   "cell_type": "markdown",
   "metadata": {},
   "source": [
    "Ok so the average Saleprice of a home is almost 180K."
   ]
  },
  {
   "cell_type": "markdown",
   "metadata": {},
   "source": [
    "## Correlation\n",
    "Lets take a look at the correlation of the features to see if we can identify the important ones"
   ]
  },
  {
   "cell_type": "code",
   "execution_count": 6,
   "metadata": {
    "collapsed": false
   },
   "outputs": [
    {
     "data": {
      "text/plain": [
       "saleprice        1.000000\n",
       "overallqual      0.790982\n",
       "grlivarea        0.708624\n",
       "garagecars       0.640409\n",
       "garagearea       0.623431\n",
       "totalbsmtsf      0.613581\n",
       "1stflrsf         0.605852\n",
       "fullbath         0.560664\n",
       "totrmsabvgrd     0.533723\n",
       "yearbuilt        0.522897\n",
       "yearremodadd     0.507101\n",
       "garageyrblt      0.486362\n",
       "masvnrarea       0.477493\n",
       "fireplaces       0.466929\n",
       "bsmtfinsf1       0.386420\n",
       "lotfrontage      0.351799\n",
       "wooddecksf       0.324413\n",
       "2ndflrsf         0.319334\n",
       "openporchsf      0.315856\n",
       "halfbath         0.284108\n",
       "lotarea          0.263843\n",
       "bsmtfullbath     0.227122\n",
       "bsmtunfsf        0.214479\n",
       "bedroomabvgr     0.168213\n",
       "screenporch      0.111447\n",
       "poolarea         0.092404\n",
       "mosold           0.046432\n",
       "3ssnporch        0.044584\n",
       "bsmtfinsf2      -0.011378\n",
       "bsmthalfbath    -0.016844\n",
       "miscval         -0.021190\n",
       "id              -0.021917\n",
       "lowqualfinsf    -0.025606\n",
       "yrsold          -0.028923\n",
       "overallcond     -0.077856\n",
       "mssubclass      -0.084284\n",
       "enclosedporch   -0.128578\n",
       "kitchenabvgr    -0.135907\n",
       "Name: saleprice, dtype: float64"
      ]
     },
     "execution_count": 6,
     "metadata": {},
     "output_type": "execute_result"
    }
   ],
   "source": [
    "housing_data_train.corr()[\"saleprice\"].sort_values(ascending=False)"
   ]
  },
  {
   "cell_type": "code",
   "execution_count": 7,
   "metadata": {
    "collapsed": false
   },
   "outputs": [
    {
     "data": {
      "text/plain": [
       "<matplotlib.axes._subplots.AxesSubplot at 0x111ff5390>"
      ]
     },
     "execution_count": 7,
     "metadata": {},
     "output_type": "execute_result"
    },
    {
     "data": {
      "image/png": "[encoded data removed]",
      "text/plain": [
       "<matplotlib.figure.Figure at 0x111fd7a50>"
      ]
     },
     "metadata": {},
     "output_type": "display_data"
    }
   ],
   "source": [
    "housing_corr = housing_data_train.corr()\n",
    "fig, ax = plt.subplots(figsize=(15, 15))\n",
    "sns.heatmap(housing_corr, square=True)"
   ]
  },
  {
   "cell_type": "markdown",
   "metadata": {
    "collapsed": true
   },
   "source": [
    "Let's select the fields with a correlation of .4 or higher and see how the relationship to SalePrice looks."
   ]
  },
  {
   "cell_type": "code",
   "execution_count": 8,
   "metadata": {
    "collapsed": false
   },
   "outputs": [
    {
     "data": {
      "text/plain": [
       "<seaborn.axisgrid.PairGrid at 0x112afc490>"
      ]
     },
     "execution_count": 8,
     "metadata": {},
     "output_type": "execute_result"
    },
    {
     "data": {
      "image/png": "[encoded data removed]",
      "text/plain": [
       "<matplotlib.figure.Figure at 0x112afc410>"
      ]
     },
     "metadata": {},
     "output_type": "display_data"
    }
   ],
   "source": [
    "sns.pairplot(housing_data_train, x_vars=['overallqual','grlivarea','garagecars'], y_vars='saleprice',\n",
    "             size=6, aspect=0.8, kind='reg')"
   ]
  },
  {
   "cell_type": "code",
   "execution_count": 9,
   "metadata": {
    "collapsed": false
   },
   "outputs": [
    {
     "data": {
      "text/plain": [
       "<seaborn.axisgrid.PairGrid at 0x11672b590>"
      ]
     },
     "execution_count": 9,
     "metadata": {},
     "output_type": "execute_result"
    },
    {
     "data": {
      "image/png": "[encoded data removed]",
      "text/plain": [
       "<matplotlib.figure.Figure at 0x112ae61d0>"
      ]
     },
     "metadata": {},
     "output_type": "display_data"
    }
   ],
   "source": [
    "sns.pairplot(housing_data_train, x_vars=['garagearea','totalbsmtsf',\n",
    "                      '1stflrsf'], y_vars='saleprice',\n",
    "             size=6, aspect=0.8, kind='reg')"
   ]
  },
  {
   "cell_type": "markdown",
   "metadata": {},
   "source": [
    "## Split Numeric and Categorical Data"
   ]
  },
  {
   "cell_type": "code",
   "execution_count": 10,
   "metadata": {
    "collapsed": false
   },
   "outputs": [
    {
     "name": "stdout",
     "output_type": "stream",
     "text": [
      "object     43\n",
      "int64      35\n",
      "float64     3\n",
      "dtype: int64\n"
     ]
    }
   ],
   "source": [
    "print housing_data_train.dtypes.value_counts()"
   ]
  },
  {
   "cell_type": "code",
   "execution_count": 11,
   "metadata": {
    "collapsed": true
   },
   "outputs": [],
   "source": [
    "housing_data_train_numeric = housing_data_train.select_dtypes(include=['int64','float64'])"
   ]
  },
  {
   "cell_type": "code",
   "execution_count": 12,
   "metadata": {
    "collapsed": true
   },
   "outputs": [],
   "source": [
    "housing_data_train_categories = housing_data_train.select_dtypes(exclude=['int64','float64'])"
   ]
  },
  {
   "cell_type": "markdown",
   "metadata": {},
   "source": [
    "## Review and Impute Missing Data"
   ]
  },
  {
   "cell_type": "code",
   "execution_count": 13,
   "metadata": {
    "collapsed": false
   },
   "outputs": [
    {
     "name": "stdout",
     "output_type": "stream",
     "text": [
      "poolqc          1453\n",
      "miscfeature     1406\n",
      "alley           1369\n",
      "fence           1179\n",
      "fireplacequ      690\n",
      "garagecond        81\n",
      "garagequal        81\n",
      "garagefinish      81\n",
      "garagetype        81\n",
      "bsmtfintype2      38\n",
      "bsmtexposure      38\n",
      "bsmtfintype1      37\n",
      "bsmtcond          37\n",
      "bsmtqual          37\n",
      "masvnrtype         8\n",
      "electrical         1\n",
      "dtype: int64\n"
     ]
    }
   ],
   "source": [
    "categorical_null = (housing_data_train_categories.isnull().sum())\n",
    "categorical_null = categorical_null[categorical_null>0]\n",
    "categorical_null.sort_values(ascending=False,inplace=True)\n",
    "print categorical_null"
   ]
  },
  {
   "cell_type": "code",
   "execution_count": 14,
   "metadata": {
    "collapsed": false
   },
   "outputs": [
    {
     "data": {
      "text/plain": [
       "<matplotlib.axes._subplots.AxesSubplot at 0x112b68950>"
      ]
     },
     "execution_count": 14,
     "metadata": {},
     "output_type": "execute_result"
    },
    {
     "data": {
      "image/png": "[encoded data removed]",
      "text/plain": [
       "<matplotlib.figure.Figure at 0x116abd710>"
      ]
     },
     "metadata": {},
     "output_type": "display_data"
    }
   ],
   "source": [
    "\n",
    "categorical_null.plot(kind='bar',figsize=(12,10))"
   ]
  },
  {
   "cell_type": "markdown",
   "metadata": {},
   "source": [
    "Since some of our features are missing a large percentage of their data we will just drop them. Originally I also removed `fireplacequ` but the model was slightly more accurate if I left it in."
   ]
  },
  {
   "cell_type": "code",
   "execution_count": 15,
   "metadata": {
    "collapsed": true
   },
   "outputs": [],
   "source": [
    "drop_columns = ['alley','poolqc','fence','miscfeature']\n",
    "for column in drop_columns:\n",
    "    housing_data_train_categories = housing_data_train_categories.drop(column, axis=1)"
   ]
  },
  {
   "cell_type": "markdown",
   "metadata": {},
   "source": [
    "Now let's check the null data in the numeric features."
   ]
  },
  {
   "cell_type": "code",
   "execution_count": 16,
   "metadata": {
    "collapsed": false
   },
   "outputs": [
    {
     "name": "stdout",
     "output_type": "stream",
     "text": [
      "lotfrontage    259\n",
      "garageyrblt     81\n",
      "masvnrarea       8\n",
      "dtype: int64\n"
     ]
    }
   ],
   "source": [
    "numeric_percent_null = housing_data_train_numeric.isnull().sum()\n",
    "numeric_percent_null = numeric_percent_null[numeric_percent_null>0]\n",
    "numeric_percent_null = numeric_percent_null.sort_values(ascending=False)\n",
    "print numeric_percent_null"
   ]
  },
  {
   "cell_type": "code",
   "execution_count": 17,
   "metadata": {
    "collapsed": false
   },
   "outputs": [
    {
     "data": {
      "text/plain": [
       "<matplotlib.axes._subplots.AxesSubplot at 0x11625ee90>"
      ]
     },
     "execution_count": 17,
     "metadata": {},
     "output_type": "execute_result"
    },
    {
     "data": {
      "image/png": "[encoded data removed]",
      "text/plain": [
       "<matplotlib.figure.Figure at 0x11708fbd0>"
      ]
     },
     "metadata": {},
     "output_type": "display_data"
    }
   ],
   "source": [
    "numeric_percent_null.plot(kind='bar', figsize=(12,10))"
   ]
  },
  {
   "cell_type": "markdown",
   "metadata": {},
   "source": [
    "Removing lotfrontage since there are more than 50 fields missing"
   ]
  },
  {
   "cell_type": "code",
   "execution_count": 18,
   "metadata": {
    "collapsed": false
   },
   "outputs": [],
   "source": [
    "housing_data_train_numeric = housing_data_train_numeric.drop(['lotfrontage'], axis=1)"
   ]
  },
  {
   "cell_type": "markdown",
   "metadata": {},
   "source": [
    "## Impute numeric data with the mean value"
   ]
  },
  {
   "cell_type": "code",
   "execution_count": 19,
   "metadata": {
    "collapsed": false
   },
   "outputs": [],
   "source": [
    "mean_per_column = housing_data_train_numeric.apply(lambda x: x.mean(),axis=0)\n",
    "numeric_mean_filled = housing_data_train_numeric.fillna(mean_per_column,axis=0)\n",
    "#numeric_mean_filled.isnull().sum()"
   ]
  },
  {
   "cell_type": "code",
   "execution_count": 20,
   "metadata": {
    "collapsed": false
   },
   "outputs": [
    {
     "data": {
      "text/html": [
       "<div>\n",
       "<table border=\"1\" class=\"dataframe\">\n",
       "  <thead>\n",
       "    <tr style=\"text-align: right;\">\n",
       "      <th></th>\n",
       "      <th>mszoning</th>\n",
       "      <th>street</th>\n",
       "      <th>lotshape</th>\n",
       "      <th>landcontour</th>\n",
       "      <th>utilities</th>\n",
       "      <th>lotconfig</th>\n",
       "      <th>landslope</th>\n",
       "      <th>neighborhood</th>\n",
       "      <th>condition1</th>\n",
       "      <th>condition2</th>\n",
       "      <th>...</th>\n",
       "      <th>kitchenqual</th>\n",
       "      <th>functional</th>\n",
       "      <th>fireplacequ</th>\n",
       "      <th>garagetype</th>\n",
       "      <th>garagefinish</th>\n",
       "      <th>garagequal</th>\n",
       "      <th>garagecond</th>\n",
       "      <th>paveddrive</th>\n",
       "      <th>saletype</th>\n",
       "      <th>salecondition</th>\n",
       "    </tr>\n",
       "  </thead>\n",
       "  <tbody>\n",
       "    <tr>\n",
       "      <th>count</th>\n",
       "      <td>1460</td>\n",
       "      <td>1460</td>\n",
       "      <td>1460</td>\n",
       "      <td>1460</td>\n",
       "      <td>1460</td>\n",
       "      <td>1460</td>\n",
       "      <td>1460</td>\n",
       "      <td>1460</td>\n",
       "      <td>1460</td>\n",
       "      <td>1460</td>\n",
       "      <td>...</td>\n",
       "      <td>1460</td>\n",
       "      <td>1460</td>\n",
       "      <td>770</td>\n",
       "      <td>1379</td>\n",
       "      <td>1379</td>\n",
       "      <td>1379</td>\n",
       "      <td>1379</td>\n",
       "      <td>1460</td>\n",
       "      <td>1460</td>\n",
       "      <td>1460</td>\n",
       "    </tr>\n",
       "    <tr>\n",
       "      <th>unique</th>\n",
       "      <td>5</td>\n",
       "      <td>2</td>\n",
       "      <td>4</td>\n",
       "      <td>4</td>\n",
       "      <td>2</td>\n",
       "      <td>5</td>\n",
       "      <td>3</td>\n",
       "      <td>25</td>\n",
       "      <td>9</td>\n",
       "      <td>8</td>\n",
       "      <td>...</td>\n",
       "      <td>4</td>\n",
       "      <td>7</td>\n",
       "      <td>5</td>\n",
       "      <td>6</td>\n",
       "      <td>3</td>\n",
       "      <td>5</td>\n",
       "      <td>5</td>\n",
       "      <td>3</td>\n",
       "      <td>9</td>\n",
       "      <td>6</td>\n",
       "    </tr>\n",
       "    <tr>\n",
       "      <th>top</th>\n",
       "      <td>RL</td>\n",
       "      <td>Pave</td>\n",
       "      <td>Reg</td>\n",
       "      <td>Lvl</td>\n",
       "      <td>AllPub</td>\n",
       "      <td>Inside</td>\n",
       "      <td>Gtl</td>\n",
       "      <td>NAmes</td>\n",
       "      <td>Norm</td>\n",
       "      <td>Norm</td>\n",
       "      <td>...</td>\n",
       "      <td>TA</td>\n",
       "      <td>Typ</td>\n",
       "      <td>Gd</td>\n",
       "      <td>Attchd</td>\n",
       "      <td>Unf</td>\n",
       "      <td>TA</td>\n",
       "      <td>TA</td>\n",
       "      <td>Y</td>\n",
       "      <td>WD</td>\n",
       "      <td>Normal</td>\n",
       "    </tr>\n",
       "    <tr>\n",
       "      <th>freq</th>\n",
       "      <td>1151</td>\n",
       "      <td>1454</td>\n",
       "      <td>925</td>\n",
       "      <td>1311</td>\n",
       "      <td>1459</td>\n",
       "      <td>1052</td>\n",
       "      <td>1382</td>\n",
       "      <td>225</td>\n",
       "      <td>1260</td>\n",
       "      <td>1445</td>\n",
       "      <td>...</td>\n",
       "      <td>735</td>\n",
       "      <td>1360</td>\n",
       "      <td>380</td>\n",
       "      <td>870</td>\n",
       "      <td>605</td>\n",
       "      <td>1311</td>\n",
       "      <td>1326</td>\n",
       "      <td>1340</td>\n",
       "      <td>1267</td>\n",
       "      <td>1198</td>\n",
       "    </tr>\n",
       "  </tbody>\n",
       "</table>\n",
       "<p>4 rows × 39 columns</p>\n",
       "</div>"
      ],
      "text/plain": [
       "       mszoning street lotshape landcontour utilities lotconfig landslope  \\\n",
       "count      1460   1460     1460        1460      1460      1460      1460   \n",
       "unique        5      2        4           4         2         5         3   \n",
       "top          RL   Pave      Reg         Lvl    AllPub    Inside       Gtl   \n",
       "freq       1151   1454      925        1311      1459      1052      1382   \n",
       "\n",
       "       neighborhood condition1 condition2      ...      kitchenqual  \\\n",
       "count          1460       1460       1460      ...             1460   \n",
       "unique           25          9          8      ...                4   \n",
       "top           NAmes       Norm       Norm      ...               TA   \n",
       "freq            225       1260       1445      ...              735   \n",
       "\n",
       "       functional fireplacequ garagetype garagefinish garagequal garagecond  \\\n",
       "count        1460         770       1379         1379       1379       1379   \n",
       "unique          7           5          6            3          5          5   \n",
       "top           Typ          Gd     Attchd          Unf         TA         TA   \n",
       "freq         1360         380        870          605       1311       1326   \n",
       "\n",
       "       paveddrive saletype salecondition  \n",
       "count        1460     1460          1460  \n",
       "unique          3        9             6  \n",
       "top             Y       WD        Normal  \n",
       "freq         1340     1267          1198  \n",
       "\n",
       "[4 rows x 39 columns]"
      ]
     },
     "execution_count": 20,
     "metadata": {},
     "output_type": "execute_result"
    }
   ],
   "source": [
    "housing_data_train_categories.describe()"
   ]
  },
  {
   "cell_type": "markdown",
   "metadata": {},
   "source": [
    "## Impute numeric data with median value"
   ]
  },
  {
   "cell_type": "code",
   "execution_count": 21,
   "metadata": {
    "collapsed": false
   },
   "outputs": [],
   "source": [
    "median_per_column = housing_data_train_numeric.apply(lambda x: x.mean(),axis=0)\n",
    "numeric_median_filled = housing_data_train_numeric.fillna(median_per_column,axis=0)"
   ]
  },
  {
   "cell_type": "markdown",
   "metadata": {
    "collapsed": true
   },
   "source": [
    "## Impute categorical data with most frequent value"
   ]
  },
  {
   "cell_type": "code",
   "execution_count": 22,
   "metadata": {
    "collapsed": true
   },
   "outputs": [],
   "source": [
    "def get_most_frequent_value (column):\n",
    "    return column.value_counts().index[0]\n",
    "\n",
    "most_frequent_values = housing_data_train_categories.apply(get_most_frequent_value,axis=0)"
   ]
  },
  {
   "cell_type": "code",
   "execution_count": 23,
   "metadata": {
    "collapsed": false
   },
   "outputs": [],
   "source": [
    "most_frequent_values = housing_data_train_categories.apply(get_most_frequent_value,axis=0)\n",
    "#print(\"Most frequent value in each column:\\n\"),most_frequent_values"
   ]
  },
  {
   "cell_type": "code",
   "execution_count": 24,
   "metadata": {
    "collapsed": true
   },
   "outputs": [],
   "source": [
    "categorical_most_frequent = housing_data_train_categories.fillna(most_frequent_values,axis=0)"
   ]
  },
  {
   "cell_type": "code",
   "execution_count": 25,
   "metadata": {
    "collapsed": false
   },
   "outputs": [],
   "source": [
    "#categorical_most_frequent.isnull().sum()"
   ]
  },
  {
   "cell_type": "code",
   "execution_count": 26,
   "metadata": {
    "collapsed": false
   },
   "outputs": [
    {
     "data": {
      "text/html": [
       "<div>\n",
       "<table border=\"1\" class=\"dataframe\">\n",
       "  <thead>\n",
       "    <tr style=\"text-align: right;\">\n",
       "      <th></th>\n",
       "      <th>mszoning</th>\n",
       "      <th>street</th>\n",
       "      <th>lotshape</th>\n",
       "      <th>landcontour</th>\n",
       "      <th>utilities</th>\n",
       "      <th>lotconfig</th>\n",
       "      <th>landslope</th>\n",
       "      <th>neighborhood</th>\n",
       "      <th>condition1</th>\n",
       "      <th>condition2</th>\n",
       "      <th>...</th>\n",
       "      <th>kitchenqual</th>\n",
       "      <th>functional</th>\n",
       "      <th>fireplacequ</th>\n",
       "      <th>garagetype</th>\n",
       "      <th>garagefinish</th>\n",
       "      <th>garagequal</th>\n",
       "      <th>garagecond</th>\n",
       "      <th>paveddrive</th>\n",
       "      <th>saletype</th>\n",
       "      <th>salecondition</th>\n",
       "    </tr>\n",
       "  </thead>\n",
       "  <tbody>\n",
       "    <tr>\n",
       "      <th>0</th>\n",
       "      <td>RL</td>\n",
       "      <td>Pave</td>\n",
       "      <td>Reg</td>\n",
       "      <td>Lvl</td>\n",
       "      <td>AllPub</td>\n",
       "      <td>Inside</td>\n",
       "      <td>Gtl</td>\n",
       "      <td>CollgCr</td>\n",
       "      <td>Norm</td>\n",
       "      <td>Norm</td>\n",
       "      <td>...</td>\n",
       "      <td>Gd</td>\n",
       "      <td>Typ</td>\n",
       "      <td>missing</td>\n",
       "      <td>Attchd</td>\n",
       "      <td>RFn</td>\n",
       "      <td>TA</td>\n",
       "      <td>TA</td>\n",
       "      <td>Y</td>\n",
       "      <td>WD</td>\n",
       "      <td>Normal</td>\n",
       "    </tr>\n",
       "    <tr>\n",
       "      <th>1</th>\n",
       "      <td>RL</td>\n",
       "      <td>Pave</td>\n",
       "      <td>Reg</td>\n",
       "      <td>Lvl</td>\n",
       "      <td>AllPub</td>\n",
       "      <td>FR2</td>\n",
       "      <td>Gtl</td>\n",
       "      <td>Veenker</td>\n",
       "      <td>Feedr</td>\n",
       "      <td>Norm</td>\n",
       "      <td>...</td>\n",
       "      <td>TA</td>\n",
       "      <td>Typ</td>\n",
       "      <td>TA</td>\n",
       "      <td>Attchd</td>\n",
       "      <td>RFn</td>\n",
       "      <td>TA</td>\n",
       "      <td>TA</td>\n",
       "      <td>Y</td>\n",
       "      <td>WD</td>\n",
       "      <td>Normal</td>\n",
       "    </tr>\n",
       "    <tr>\n",
       "      <th>2</th>\n",
       "      <td>RL</td>\n",
       "      <td>Pave</td>\n",
       "      <td>IR1</td>\n",
       "      <td>Lvl</td>\n",
       "      <td>AllPub</td>\n",
       "      <td>Inside</td>\n",
       "      <td>Gtl</td>\n",
       "      <td>CollgCr</td>\n",
       "      <td>Norm</td>\n",
       "      <td>Norm</td>\n",
       "      <td>...</td>\n",
       "      <td>Gd</td>\n",
       "      <td>Typ</td>\n",
       "      <td>TA</td>\n",
       "      <td>Attchd</td>\n",
       "      <td>RFn</td>\n",
       "      <td>TA</td>\n",
       "      <td>TA</td>\n",
       "      <td>Y</td>\n",
       "      <td>WD</td>\n",
       "      <td>Normal</td>\n",
       "    </tr>\n",
       "    <tr>\n",
       "      <th>3</th>\n",
       "      <td>RL</td>\n",
       "      <td>Pave</td>\n",
       "      <td>IR1</td>\n",
       "      <td>Lvl</td>\n",
       "      <td>AllPub</td>\n",
       "      <td>Corner</td>\n",
       "      <td>Gtl</td>\n",
       "      <td>Crawfor</td>\n",
       "      <td>Norm</td>\n",
       "      <td>Norm</td>\n",
       "      <td>...</td>\n",
       "      <td>Gd</td>\n",
       "      <td>Typ</td>\n",
       "      <td>Gd</td>\n",
       "      <td>Detchd</td>\n",
       "      <td>Unf</td>\n",
       "      <td>TA</td>\n",
       "      <td>TA</td>\n",
       "      <td>Y</td>\n",
       "      <td>WD</td>\n",
       "      <td>Abnorml</td>\n",
       "    </tr>\n",
       "    <tr>\n",
       "      <th>4</th>\n",
       "      <td>RL</td>\n",
       "      <td>Pave</td>\n",
       "      <td>IR1</td>\n",
       "      <td>Lvl</td>\n",
       "      <td>AllPub</td>\n",
       "      <td>FR2</td>\n",
       "      <td>Gtl</td>\n",
       "      <td>NoRidge</td>\n",
       "      <td>Norm</td>\n",
       "      <td>Norm</td>\n",
       "      <td>...</td>\n",
       "      <td>Gd</td>\n",
       "      <td>Typ</td>\n",
       "      <td>TA</td>\n",
       "      <td>Attchd</td>\n",
       "      <td>RFn</td>\n",
       "      <td>TA</td>\n",
       "      <td>TA</td>\n",
       "      <td>Y</td>\n",
       "      <td>WD</td>\n",
       "      <td>Normal</td>\n",
       "    </tr>\n",
       "  </tbody>\n",
       "</table>\n",
       "<p>5 rows × 39 columns</p>\n",
       "</div>"
      ],
      "text/plain": [
       "  mszoning street lotshape landcontour utilities lotconfig landslope  \\\n",
       "0       RL   Pave      Reg         Lvl    AllPub    Inside       Gtl   \n",
       "1       RL   Pave      Reg         Lvl    AllPub       FR2       Gtl   \n",
       "2       RL   Pave      IR1         Lvl    AllPub    Inside       Gtl   \n",
       "3       RL   Pave      IR1         Lvl    AllPub    Corner       Gtl   \n",
       "4       RL   Pave      IR1         Lvl    AllPub       FR2       Gtl   \n",
       "\n",
       "  neighborhood condition1 condition2      ...      kitchenqual functional  \\\n",
       "0      CollgCr       Norm       Norm      ...               Gd        Typ   \n",
       "1      Veenker      Feedr       Norm      ...               TA        Typ   \n",
       "2      CollgCr       Norm       Norm      ...               Gd        Typ   \n",
       "3      Crawfor       Norm       Norm      ...               Gd        Typ   \n",
       "4      NoRidge       Norm       Norm      ...               Gd        Typ   \n",
       "\n",
       "  fireplacequ garagetype garagefinish garagequal garagecond paveddrive  \\\n",
       "0     missing     Attchd          RFn         TA         TA          Y   \n",
       "1          TA     Attchd          RFn         TA         TA          Y   \n",
       "2          TA     Attchd          RFn         TA         TA          Y   \n",
       "3          Gd     Detchd          Unf         TA         TA          Y   \n",
       "4          TA     Attchd          RFn         TA         TA          Y   \n",
       "\n",
       "  saletype salecondition  \n",
       "0       WD        Normal  \n",
       "1       WD        Normal  \n",
       "2       WD        Normal  \n",
       "3       WD       Abnorml  \n",
       "4       WD        Normal  \n",
       "\n",
       "[5 rows x 39 columns]"
      ]
     },
     "execution_count": 26,
     "metadata": {},
     "output_type": "execute_result"
    }
   ],
   "source": [
    "special_missing_category = housing_data_train_categories.fillna(\"missing\")\n",
    "special_missing_category.head()"
   ]
  },
  {
   "cell_type": "markdown",
   "metadata": {},
   "source": [
    "Transform the categorical fields using get_dummies function"
   ]
  },
  {
   "cell_type": "code",
   "execution_count": 27,
   "metadata": {
    "collapsed": false
   },
   "outputs": [
    {
     "data": {
      "text/html": [
       "<div>\n",
       "<table border=\"1\" class=\"dataframe\">\n",
       "  <thead>\n",
       "    <tr style=\"text-align: right;\">\n",
       "      <th></th>\n",
       "      <th>mszoning_C (all)</th>\n",
       "      <th>mszoning_FV</th>\n",
       "      <th>mszoning_RH</th>\n",
       "      <th>mszoning_RL</th>\n",
       "      <th>mszoning_RM</th>\n",
       "      <th>street_Grvl</th>\n",
       "      <th>street_Pave</th>\n",
       "      <th>lotshape_IR1</th>\n",
       "      <th>lotshape_IR2</th>\n",
       "      <th>lotshape_IR3</th>\n",
       "      <th>...</th>\n",
       "      <th>saletype_ConLw</th>\n",
       "      <th>saletype_New</th>\n",
       "      <th>saletype_Oth</th>\n",
       "      <th>saletype_WD</th>\n",
       "      <th>salecondition_Abnorml</th>\n",
       "      <th>salecondition_AdjLand</th>\n",
       "      <th>salecondition_Alloca</th>\n",
       "      <th>salecondition_Family</th>\n",
       "      <th>salecondition_Normal</th>\n",
       "      <th>salecondition_Partial</th>\n",
       "    </tr>\n",
       "  </thead>\n",
       "  <tbody>\n",
       "    <tr>\n",
       "      <th>0</th>\n",
       "      <td>0</td>\n",
       "      <td>0</td>\n",
       "      <td>0</td>\n",
       "      <td>1</td>\n",
       "      <td>0</td>\n",
       "      <td>0</td>\n",
       "      <td>1</td>\n",
       "      <td>0</td>\n",
       "      <td>0</td>\n",
       "      <td>0</td>\n",
       "      <td>...</td>\n",
       "      <td>0</td>\n",
       "      <td>0</td>\n",
       "      <td>0</td>\n",
       "      <td>1</td>\n",
       "      <td>0</td>\n",
       "      <td>0</td>\n",
       "      <td>0</td>\n",
       "      <td>0</td>\n",
       "      <td>1</td>\n",
       "      <td>0</td>\n",
       "    </tr>\n",
       "    <tr>\n",
       "      <th>1</th>\n",
       "      <td>0</td>\n",
       "      <td>0</td>\n",
       "      <td>0</td>\n",
       "      <td>1</td>\n",
       "      <td>0</td>\n",
       "      <td>0</td>\n",
       "      <td>1</td>\n",
       "      <td>0</td>\n",
       "      <td>0</td>\n",
       "      <td>0</td>\n",
       "      <td>...</td>\n",
       "      <td>0</td>\n",
       "      <td>0</td>\n",
       "      <td>0</td>\n",
       "      <td>1</td>\n",
       "      <td>0</td>\n",
       "      <td>0</td>\n",
       "      <td>0</td>\n",
       "      <td>0</td>\n",
       "      <td>1</td>\n",
       "      <td>0</td>\n",
       "    </tr>\n",
       "    <tr>\n",
       "      <th>2</th>\n",
       "      <td>0</td>\n",
       "      <td>0</td>\n",
       "      <td>0</td>\n",
       "      <td>1</td>\n",
       "      <td>0</td>\n",
       "      <td>0</td>\n",
       "      <td>1</td>\n",
       "      <td>1</td>\n",
       "      <td>0</td>\n",
       "      <td>0</td>\n",
       "      <td>...</td>\n",
       "      <td>0</td>\n",
       "      <td>0</td>\n",
       "      <td>0</td>\n",
       "      <td>1</td>\n",
       "      <td>0</td>\n",
       "      <td>0</td>\n",
       "      <td>0</td>\n",
       "      <td>0</td>\n",
       "      <td>1</td>\n",
       "      <td>0</td>\n",
       "    </tr>\n",
       "    <tr>\n",
       "      <th>3</th>\n",
       "      <td>0</td>\n",
       "      <td>0</td>\n",
       "      <td>0</td>\n",
       "      <td>1</td>\n",
       "      <td>0</td>\n",
       "      <td>0</td>\n",
       "      <td>1</td>\n",
       "      <td>1</td>\n",
       "      <td>0</td>\n",
       "      <td>0</td>\n",
       "      <td>...</td>\n",
       "      <td>0</td>\n",
       "      <td>0</td>\n",
       "      <td>0</td>\n",
       "      <td>1</td>\n",
       "      <td>1</td>\n",
       "      <td>0</td>\n",
       "      <td>0</td>\n",
       "      <td>0</td>\n",
       "      <td>0</td>\n",
       "      <td>0</td>\n",
       "    </tr>\n",
       "    <tr>\n",
       "      <th>4</th>\n",
       "      <td>0</td>\n",
       "      <td>0</td>\n",
       "      <td>0</td>\n",
       "      <td>1</td>\n",
       "      <td>0</td>\n",
       "      <td>0</td>\n",
       "      <td>1</td>\n",
       "      <td>1</td>\n",
       "      <td>0</td>\n",
       "      <td>0</td>\n",
       "      <td>...</td>\n",
       "      <td>0</td>\n",
       "      <td>0</td>\n",
       "      <td>0</td>\n",
       "      <td>1</td>\n",
       "      <td>0</td>\n",
       "      <td>0</td>\n",
       "      <td>0</td>\n",
       "      <td>0</td>\n",
       "      <td>1</td>\n",
       "      <td>0</td>\n",
       "    </tr>\n",
       "  </tbody>\n",
       "</table>\n",
       "<p>5 rows × 239 columns</p>\n",
       "</div>"
      ],
      "text/plain": [
       "   mszoning_C (all)  mszoning_FV  mszoning_RH  mszoning_RL  mszoning_RM  \\\n",
       "0                 0            0            0            1            0   \n",
       "1                 0            0            0            1            0   \n",
       "2                 0            0            0            1            0   \n",
       "3                 0            0            0            1            0   \n",
       "4                 0            0            0            1            0   \n",
       "\n",
       "   street_Grvl  street_Pave  lotshape_IR1  lotshape_IR2  lotshape_IR3  \\\n",
       "0            0            1             0             0             0   \n",
       "1            0            1             0             0             0   \n",
       "2            0            1             1             0             0   \n",
       "3            0            1             1             0             0   \n",
       "4            0            1             1             0             0   \n",
       "\n",
       "           ...            saletype_ConLw  saletype_New  saletype_Oth  \\\n",
       "0          ...                         0             0             0   \n",
       "1          ...                         0             0             0   \n",
       "2          ...                         0             0             0   \n",
       "3          ...                         0             0             0   \n",
       "4          ...                         0             0             0   \n",
       "\n",
       "   saletype_WD  salecondition_Abnorml  salecondition_AdjLand  \\\n",
       "0            1                      0                      0   \n",
       "1            1                      0                      0   \n",
       "2            1                      0                      0   \n",
       "3            1                      1                      0   \n",
       "4            1                      0                      0   \n",
       "\n",
       "   salecondition_Alloca  salecondition_Family  salecondition_Normal  \\\n",
       "0                     0                     0                     1   \n",
       "1                     0                     0                     1   \n",
       "2                     0                     0                     1   \n",
       "3                     0                     0                     0   \n",
       "4                     0                     0                     1   \n",
       "\n",
       "   salecondition_Partial  \n",
       "0                      0  \n",
       "1                      0  \n",
       "2                      0  \n",
       "3                      0  \n",
       "4                      0  \n",
       "\n",
       "[5 rows x 239 columns]"
      ]
     },
     "execution_count": 27,
     "metadata": {},
     "output_type": "execute_result"
    }
   ],
   "source": [
    "categorical_list = categorical_most_frequent.columns.tolist()\n",
    "housing_dummies = pd.get_dummies(categorical_most_frequent,columns=categorical_list)\n",
    "housing_dummies.head()"
   ]
  },
  {
   "cell_type": "markdown",
   "metadata": {},
   "source": [
    "## Try label encoder instead"
   ]
  },
  {
   "cell_type": "code",
   "execution_count": 28,
   "metadata": {
    "collapsed": true
   },
   "outputs": [],
   "source": [
    "housing_labels = categorical_most_frequent.apply(LabelEncoder().fit_transform)"
   ]
  },
  {
   "cell_type": "code",
   "execution_count": 29,
   "metadata": {
    "collapsed": true
   },
   "outputs": [],
   "source": [
    "housing_labels_special = special_missing_category.apply(LabelEncoder().fit_transform)"
   ]
  },
  {
   "cell_type": "code",
   "execution_count": 30,
   "metadata": {
    "collapsed": false
   },
   "outputs": [
    {
     "data": {
      "text/html": [
       "<div>\n",
       "<table border=\"1\" class=\"dataframe\">\n",
       "  <thead>\n",
       "    <tr style=\"text-align: right;\">\n",
       "      <th></th>\n",
       "      <th>mszoning</th>\n",
       "      <th>street</th>\n",
       "      <th>lotshape</th>\n",
       "      <th>landcontour</th>\n",
       "      <th>utilities</th>\n",
       "      <th>lotconfig</th>\n",
       "      <th>landslope</th>\n",
       "      <th>neighborhood</th>\n",
       "      <th>condition1</th>\n",
       "      <th>condition2</th>\n",
       "      <th>...</th>\n",
       "      <th>kitchenqual</th>\n",
       "      <th>functional</th>\n",
       "      <th>fireplacequ</th>\n",
       "      <th>garagetype</th>\n",
       "      <th>garagefinish</th>\n",
       "      <th>garagequal</th>\n",
       "      <th>garagecond</th>\n",
       "      <th>paveddrive</th>\n",
       "      <th>saletype</th>\n",
       "      <th>salecondition</th>\n",
       "    </tr>\n",
       "  </thead>\n",
       "  <tbody>\n",
       "    <tr>\n",
       "      <th>0</th>\n",
       "      <td>3</td>\n",
       "      <td>1</td>\n",
       "      <td>3</td>\n",
       "      <td>3</td>\n",
       "      <td>0</td>\n",
       "      <td>4</td>\n",
       "      <td>0</td>\n",
       "      <td>5</td>\n",
       "      <td>2</td>\n",
       "      <td>2</td>\n",
       "      <td>...</td>\n",
       "      <td>2</td>\n",
       "      <td>6</td>\n",
       "      <td>2</td>\n",
       "      <td>1</td>\n",
       "      <td>1</td>\n",
       "      <td>4</td>\n",
       "      <td>4</td>\n",
       "      <td>2</td>\n",
       "      <td>8</td>\n",
       "      <td>4</td>\n",
       "    </tr>\n",
       "    <tr>\n",
       "      <th>1</th>\n",
       "      <td>3</td>\n",
       "      <td>1</td>\n",
       "      <td>3</td>\n",
       "      <td>3</td>\n",
       "      <td>0</td>\n",
       "      <td>2</td>\n",
       "      <td>0</td>\n",
       "      <td>24</td>\n",
       "      <td>1</td>\n",
       "      <td>2</td>\n",
       "      <td>...</td>\n",
       "      <td>3</td>\n",
       "      <td>6</td>\n",
       "      <td>4</td>\n",
       "      <td>1</td>\n",
       "      <td>1</td>\n",
       "      <td>4</td>\n",
       "      <td>4</td>\n",
       "      <td>2</td>\n",
       "      <td>8</td>\n",
       "      <td>4</td>\n",
       "    </tr>\n",
       "    <tr>\n",
       "      <th>2</th>\n",
       "      <td>3</td>\n",
       "      <td>1</td>\n",
       "      <td>0</td>\n",
       "      <td>3</td>\n",
       "      <td>0</td>\n",
       "      <td>4</td>\n",
       "      <td>0</td>\n",
       "      <td>5</td>\n",
       "      <td>2</td>\n",
       "      <td>2</td>\n",
       "      <td>...</td>\n",
       "      <td>2</td>\n",
       "      <td>6</td>\n",
       "      <td>4</td>\n",
       "      <td>1</td>\n",
       "      <td>1</td>\n",
       "      <td>4</td>\n",
       "      <td>4</td>\n",
       "      <td>2</td>\n",
       "      <td>8</td>\n",
       "      <td>4</td>\n",
       "    </tr>\n",
       "    <tr>\n",
       "      <th>3</th>\n",
       "      <td>3</td>\n",
       "      <td>1</td>\n",
       "      <td>0</td>\n",
       "      <td>3</td>\n",
       "      <td>0</td>\n",
       "      <td>0</td>\n",
       "      <td>0</td>\n",
       "      <td>6</td>\n",
       "      <td>2</td>\n",
       "      <td>2</td>\n",
       "      <td>...</td>\n",
       "      <td>2</td>\n",
       "      <td>6</td>\n",
       "      <td>2</td>\n",
       "      <td>5</td>\n",
       "      <td>2</td>\n",
       "      <td>4</td>\n",
       "      <td>4</td>\n",
       "      <td>2</td>\n",
       "      <td>8</td>\n",
       "      <td>0</td>\n",
       "    </tr>\n",
       "    <tr>\n",
       "      <th>4</th>\n",
       "      <td>3</td>\n",
       "      <td>1</td>\n",
       "      <td>0</td>\n",
       "      <td>3</td>\n",
       "      <td>0</td>\n",
       "      <td>2</td>\n",
       "      <td>0</td>\n",
       "      <td>15</td>\n",
       "      <td>2</td>\n",
       "      <td>2</td>\n",
       "      <td>...</td>\n",
       "      <td>2</td>\n",
       "      <td>6</td>\n",
       "      <td>4</td>\n",
       "      <td>1</td>\n",
       "      <td>1</td>\n",
       "      <td>4</td>\n",
       "      <td>4</td>\n",
       "      <td>2</td>\n",
       "      <td>8</td>\n",
       "      <td>4</td>\n",
       "    </tr>\n",
       "  </tbody>\n",
       "</table>\n",
       "<p>5 rows × 39 columns</p>\n",
       "</div>"
      ],
      "text/plain": [
       "   mszoning  street  lotshape  landcontour  utilities  lotconfig  landslope  \\\n",
       "0         3       1         3            3          0          4          0   \n",
       "1         3       1         3            3          0          2          0   \n",
       "2         3       1         0            3          0          4          0   \n",
       "3         3       1         0            3          0          0          0   \n",
       "4         3       1         0            3          0          2          0   \n",
       "\n",
       "   neighborhood  condition1  condition2      ...        kitchenqual  \\\n",
       "0             5           2           2      ...                  2   \n",
       "1            24           1           2      ...                  3   \n",
       "2             5           2           2      ...                  2   \n",
       "3             6           2           2      ...                  2   \n",
       "4            15           2           2      ...                  2   \n",
       "\n",
       "   functional  fireplacequ  garagetype  garagefinish  garagequal  garagecond  \\\n",
       "0           6            2           1             1           4           4   \n",
       "1           6            4           1             1           4           4   \n",
       "2           6            4           1             1           4           4   \n",
       "3           6            2           5             2           4           4   \n",
       "4           6            4           1             1           4           4   \n",
       "\n",
       "   paveddrive  saletype  salecondition  \n",
       "0           2         8              4  \n",
       "1           2         8              4  \n",
       "2           2         8              4  \n",
       "3           2         8              0  \n",
       "4           2         8              4  \n",
       "\n",
       "[5 rows x 39 columns]"
      ]
     },
     "execution_count": 30,
     "metadata": {},
     "output_type": "execute_result"
    }
   ],
   "source": [
    "housing_labels.head()"
   ]
  },
  {
   "cell_type": "markdown",
   "metadata": {},
   "source": [
    "### Join the datasets back together"
   ]
  },
  {
   "cell_type": "code",
   "execution_count": 31,
   "metadata": {
    "collapsed": true
   },
   "outputs": [],
   "source": [
    "all_housing_data = numeric_median_filled.merge(housing_dummies, left_index=True,\n",
    "                                            right_index=True)"
   ]
  },
  {
   "cell_type": "code",
   "execution_count": 32,
   "metadata": {
    "collapsed": true
   },
   "outputs": [],
   "source": [
    "housing_X_labels = numeric_median_filled.merge(housing_labels, left_index=True,\n",
    "                                            right_index=True)"
   ]
  },
  {
   "cell_type": "code",
   "execution_count": 33,
   "metadata": {
    "collapsed": true
   },
   "outputs": [],
   "source": [
    "housing_X_labels_special = numeric_median_filled.merge(housing_labels_special, left_index=True,\n",
    "                                            right_index=True)"
   ]
  },
  {
   "cell_type": "code",
   "execution_count": 34,
   "metadata": {
    "collapsed": false
   },
   "outputs": [],
   "source": [
    "housing_X_labels = housing_X_labels.drop('saleprice',axis=1)\n"
   ]
  },
  {
   "cell_type": "code",
   "execution_count": 35,
   "metadata": {
    "collapsed": true
   },
   "outputs": [],
   "source": [
    "housing_X_labels_special = housing_X_labels_special.drop('saleprice',axis=1)"
   ]
  },
  {
   "cell_type": "code",
   "execution_count": 36,
   "metadata": {
    "collapsed": false
   },
   "outputs": [],
   "source": [
    "housing_X = all_housing_data.copy()"
   ]
  },
  {
   "cell_type": "code",
   "execution_count": 37,
   "metadata": {
    "collapsed": false
   },
   "outputs": [],
   "source": [
    "housing_y = housing_data_train_numeric.saleprice"
   ]
  },
  {
   "cell_type": "code",
   "execution_count": 38,
   "metadata": {
    "collapsed": false
   },
   "outputs": [],
   "source": [
    "housing_X = housing_X.drop(\"saleprice\",axis=1)"
   ]
  },
  {
   "cell_type": "markdown",
   "metadata": {},
   "source": [
    "## Grid Search with Label Encoded Categorical Variables"
   ]
  },
  {
   "cell_type": "code",
   "execution_count": 39,
   "metadata": {
    "collapsed": false
   },
   "outputs": [
    {
     "data": {
      "text/plain": [
       "GridSearchCV(cv=20, error_score='raise',\n",
       "       estimator=RandomForestRegressor(bootstrap=True, criterion='mse', max_depth=None,\n",
       "           max_features='auto', max_leaf_nodes=None,\n",
       "           min_impurity_split=1e-07, min_samples_leaf=1,\n",
       "           min_samples_split=2, min_weight_fraction_leaf=0.0,\n",
       "           n_estimators=10, n_jobs=-1, oob_score=False, random_state=123,\n",
       "           verbose=0, warm_start=False),\n",
       "       fit_params={}, iid=True, n_jobs=1,\n",
       "       param_grid={'n_estimators': [10, 50, 100], 'max_depth': [1, 2, 3, 4, 5, 6, 7, 8, 9, 10, 11, 12, 13, 14, 15, 16, 17, 18, 19, 20, 21, 22, 23, 24], 'min_samples_leaf': [1]},\n",
       "       pre_dispatch='2*n_jobs', refit=True, return_train_score=True,\n",
       "       scoring='r2', verbose=0)"
      ]
     },
     "execution_count": 39,
     "metadata": {},
     "output_type": "execute_result"
    }
   ],
   "source": [
    "estimators_range = [10,50,100]\n",
    "rf_grid = RandomForestRegressor(random_state=123,n_jobs=-1)\n",
    "max_depth_range = range(1,25)\n",
    "min_leaf_range = range(1,2)\n",
    "param_grid = dict(max_depth=max_depth_range,min_samples_leaf = min_leaf_range,\n",
    "                  n_estimators=estimators_range)\n",
    "grid = GridSearchCV(rf_grid,param_grid, cv=20, scoring='r2')\n",
    "grid.fit(housing_X_labels, housing_y)"
   ]
  },
  {
   "cell_type": "code",
   "execution_count": 40,
   "metadata": {
    "collapsed": false
   },
   "outputs": [
    {
     "name": "stdout",
     "output_type": "stream",
     "text": [
      "0.864115316755\n",
      "{'n_estimators': 50, 'max_depth': 18, 'min_samples_leaf': 1}\n",
      "RandomForestRegressor(bootstrap=True, criterion='mse', max_depth=18,\n",
      "           max_features='auto', max_leaf_nodes=None,\n",
      "           min_impurity_split=1e-07, min_samples_leaf=1,\n",
      "           min_samples_split=2, min_weight_fraction_leaf=0.0,\n",
      "           n_estimators=50, n_jobs=-1, oob_score=False, random_state=123,\n",
      "           verbose=0, warm_start=False)\n",
      "[ 0.48634104  0.47083252  0.48627532  0.65044441  0.6543642   0.6579168\n",
      "  0.73788289  0.74122503  0.74233922  0.78918863  0.79343269  0.79488328\n",
      "  0.82261701  0.82248029  0.82366409  0.82994226  0.83981554  0.84040812\n",
      "  0.84121207  0.85080855  0.84986758  0.84811509  0.85528918  0.85440633\n",
      "  0.84400935  0.85741193  0.85617303  0.85415625  0.8601601   0.85979111\n",
      "  0.85017494  0.86078053  0.85953295  0.85125586  0.86222588  0.8607594\n",
      "  0.84541911  0.85783273  0.85991635  0.84773261  0.86152726  0.86046611\n",
      "  0.85170238  0.85940397  0.86054415  0.84925052  0.86019656  0.85919013\n",
      "  0.85303801  0.86128913  0.8616761   0.85447788  0.86411532  0.86251975\n",
      "  0.85345891  0.86042309  0.86117165  0.84801936  0.8626171   0.86097854\n",
      "  0.84549174  0.86033277  0.85991885  0.85108728  0.86196527  0.86175115\n",
      "  0.84877987  0.86257089  0.86102757  0.84686743  0.86104759  0.86186802]\n",
      "[ 0.48634104  0.47083252  0.48627532  0.65044441  0.6543642   0.6579168\n",
      "  0.73788289  0.74122503  0.74233922  0.78918863  0.79343269  0.79488328\n",
      "  0.82261701  0.82248029  0.82366409  0.82994226  0.83981554  0.84040812\n",
      "  0.84121207  0.85080855  0.84986758  0.84811509  0.85528918  0.85440633\n",
      "  0.84400935  0.85741193  0.85617303  0.85415625  0.8601601   0.85979111\n",
      "  0.85017494  0.86078053  0.85953295  0.85125586  0.86222588  0.8607594\n",
      "  0.84541911  0.85783273  0.85991635  0.84773261  0.86152726  0.86046611\n",
      "  0.85170238  0.85940397  0.86054415  0.84925052  0.86019656  0.85919013\n",
      "  0.85303801  0.86128913  0.8616761   0.85447788  0.86411532  0.86251975\n",
      "  0.85345891  0.86042309  0.86117165  0.84801936  0.8626171   0.86097854\n",
      "  0.84549174  0.86033277  0.85991885  0.85108728  0.86196527  0.86175115\n",
      "  0.84877987  0.86257089  0.86102757  0.84686743  0.86104759  0.86186802]\n"
     ]
    }
   ],
   "source": [
    "print grid.best_score_\n",
    "print grid.best_params_\n",
    "print grid.best_estimator_\n",
    "print grid.cv_results_['mean_test_score']\n",
    "grid_mean_scores = grid.cv_results_['mean_test_score']\n",
    "print grid_mean_scores"
   ]
  },
  {
   "cell_type": "code",
   "execution_count": 41,
   "metadata": {
    "collapsed": false
   },
   "outputs": [
    {
     "data": {
      "text/plain": [
       "RandomForestRegressor(bootstrap=True, criterion='mse', max_depth=20,\n",
       "           max_features='auto', max_leaf_nodes=None,\n",
       "           min_impurity_split=1e-07, min_samples_leaf=1,\n",
       "           min_samples_split=2, min_weight_fraction_leaf=0.0,\n",
       "           n_estimators=50, n_jobs=-1, oob_score=True, random_state=123,\n",
       "           verbose=0, warm_start=False)"
      ]
     },
     "execution_count": 41,
     "metadata": {},
     "output_type": "execute_result"
    }
   ],
   "source": [
    "rf_grid = RandomForestRegressor(n_estimators=50,random_state=123,n_jobs=-1,max_depth=20,oob_score=True)\n",
    "rf_grid.fit(housing_X_labels,housing_y)"
   ]
  },
  {
   "cell_type": "code",
   "execution_count": 42,
   "metadata": {
    "collapsed": false
   },
   "outputs": [
    {
     "data": {
      "text/plain": [
       "0.86105387508690745"
      ]
     },
     "execution_count": 42,
     "metadata": {},
     "output_type": "execute_result"
    }
   ],
   "source": [
    "rf_grid.oob_score_"
   ]
  },
  {
   "cell_type": "code",
   "execution_count": 43,
   "metadata": {
    "collapsed": false
   },
   "outputs": [
    {
     "name": "stdout",
     "output_type": "stream",
     "text": [
      "RMSE: 10415.3085425\n"
     ]
    }
   ],
   "source": [
    "print \"RMSE:\",np.sqrt(mean_squared_error(housing_y, rf_grid.predict(housing_X_labels)))"
   ]
  },
  {
   "cell_type": "markdown",
   "metadata": {},
   "source": [
    "## Test with Dummy Indicator Variables"
   ]
  },
  {
   "cell_type": "code",
   "execution_count": 44,
   "metadata": {
    "collapsed": false
   },
   "outputs": [
    {
     "data": {
      "text/plain": [
       "RandomForestRegressor(bootstrap=True, criterion='mse', max_depth=20,\n",
       "           max_features='auto', max_leaf_nodes=None,\n",
       "           min_impurity_split=1e-07, min_samples_leaf=1,\n",
       "           min_samples_split=2, min_weight_fraction_leaf=0.0,\n",
       "           n_estimators=50, n_jobs=-1, oob_score=True, random_state=123,\n",
       "           verbose=0, warm_start=False)"
      ]
     },
     "execution_count": 44,
     "metadata": {},
     "output_type": "execute_result"
    }
   ],
   "source": [
    "rf_dummies = RandomForestRegressor(n_estimators=50,random_state=123,n_jobs=-1,max_depth=20,oob_score=True)\n",
    "rf_dummies.fit(housing_X,housing_y)"
   ]
  },
  {
   "cell_type": "code",
   "execution_count": 45,
   "metadata": {
    "collapsed": false
   },
   "outputs": [
    {
     "name": "stdout",
     "output_type": "stream",
     "text": [
      "RMSE: 10739.6510819\n"
     ]
    }
   ],
   "source": [
    "print \"RMSE:\",np.sqrt(mean_squared_error(housing_y, rf_dummies.predict(housing_X)))"
   ]
  },
  {
   "cell_type": "markdown",
   "metadata": {},
   "source": [
    "Looks like the Lavel encoder works better than Indicator Variables so we will use that with the test data"
   ]
  },
  {
   "cell_type": "markdown",
   "metadata": {},
   "source": [
    "## Feature Importance"
   ]
  },
  {
   "cell_type": "code",
   "execution_count": 46,
   "metadata": {
    "collapsed": false
   },
   "outputs": [],
   "source": [
    "feature_importance = pd.DataFrame({'feature':housing_X_labels.columns.tolist(),\n",
    "              'importance':rf_grid.feature_importances_}) "
   ]
  },
  {
   "cell_type": "code",
   "execution_count": 47,
   "metadata": {
    "collapsed": false
   },
   "outputs": [
    {
     "name": "stderr",
     "output_type": "stream",
     "text": [
      "/Users/xavier/anaconda/lib/python2.7/site-packages/ipykernel/__main__.py:1: FutureWarning: sort(columns=....) is deprecated, use sort_values(by=.....)\n",
      "  if __name__ == '__main__':\n"
     ]
    },
    {
     "data": {
      "text/html": [
       "<div>\n",
       "<table border=\"1\" class=\"dataframe\">\n",
       "  <thead>\n",
       "    <tr style=\"text-align: right;\">\n",
       "      <th></th>\n",
       "      <th>feature</th>\n",
       "      <th>importance</th>\n",
       "    </tr>\n",
       "  </thead>\n",
       "  <tbody>\n",
       "    <tr>\n",
       "      <th>3</th>\n",
       "      <td>overallqual</td>\n",
       "      <td>0.575015</td>\n",
       "    </tr>\n",
       "    <tr>\n",
       "      <th>15</th>\n",
       "      <td>grlivarea</td>\n",
       "      <td>0.112389</td>\n",
       "    </tr>\n",
       "    <tr>\n",
       "      <th>11</th>\n",
       "      <td>totalbsmtsf</td>\n",
       "      <td>0.042511</td>\n",
       "    </tr>\n",
       "    <tr>\n",
       "      <th>13</th>\n",
       "      <td>2ndflrsf</td>\n",
       "      <td>0.039737</td>\n",
       "    </tr>\n",
       "    <tr>\n",
       "      <th>8</th>\n",
       "      <td>bsmtfinsf1</td>\n",
       "      <td>0.025077</td>\n",
       "    </tr>\n",
       "    <tr>\n",
       "      <th>12</th>\n",
       "      <td>1stflrsf</td>\n",
       "      <td>0.024237</td>\n",
       "    </tr>\n",
       "    <tr>\n",
       "      <th>25</th>\n",
       "      <td>garagecars</td>\n",
       "      <td>0.023670</td>\n",
       "    </tr>\n",
       "    <tr>\n",
       "      <th>2</th>\n",
       "      <td>lotarea</td>\n",
       "      <td>0.014612</td>\n",
       "    </tr>\n",
       "    <tr>\n",
       "      <th>26</th>\n",
       "      <td>garagearea</td>\n",
       "      <td>0.014506</td>\n",
       "    </tr>\n",
       "    <tr>\n",
       "      <th>5</th>\n",
       "      <td>yearbuilt</td>\n",
       "      <td>0.009455</td>\n",
       "    </tr>\n",
       "  </tbody>\n",
       "</table>\n",
       "</div>"
      ],
      "text/plain": [
       "        feature  importance\n",
       "3   overallqual    0.575015\n",
       "15    grlivarea    0.112389\n",
       "11  totalbsmtsf    0.042511\n",
       "13     2ndflrsf    0.039737\n",
       "8    bsmtfinsf1    0.025077\n",
       "12     1stflrsf    0.024237\n",
       "25   garagecars    0.023670\n",
       "2       lotarea    0.014612\n",
       "26   garagearea    0.014506\n",
       "5     yearbuilt    0.009455"
      ]
     },
     "execution_count": 47,
     "metadata": {},
     "output_type": "execute_result"
    }
   ],
   "source": [
    "feature_importance_sorted = feature_importance.sort('importance', ascending=False)\n",
    "feature_importance_sorted.head(10)"
   ]
  },
  {
   "cell_type": "markdown",
   "metadata": {},
   "source": [
    "## DOING ALL OF THIS AGAIN TO THE TRAINING SET"
   ]
  },
  {
   "cell_type": "code",
   "execution_count": 48,
   "metadata": {
    "collapsed": true
   },
   "outputs": [],
   "source": [
    "housing_data_test_numeric = housing_data_test.select_dtypes(include=['int64','float64'])\n",
    "housing_data_test_categories = housing_data_test.select_dtypes(exclude=['int64','float64'])"
   ]
  },
  {
   "cell_type": "code",
   "execution_count": 49,
   "metadata": {
    "collapsed": false
   },
   "outputs": [
    {
     "data": {
      "text/plain": [
       "poolqc           1456\n",
       "miscfeature      1408\n",
       "alley            1352\n",
       "fence            1169\n",
       "fireplacequ       730\n",
       "garagecond         78\n",
       "garagequal         78\n",
       "garagefinish       78\n",
       "garagetype         76\n",
       "bsmtcond           45\n",
       "bsmtqual           44\n",
       "bsmtexposure       44\n",
       "bsmtfintype2       42\n",
       "bsmtfintype1       42\n",
       "masvnrtype         16\n",
       "mszoning            4\n",
       "utilities           2\n",
       "functional          2\n",
       "kitchenqual         1\n",
       "saletype            1\n",
       "exterior2nd         1\n",
       "exterior1st         1\n",
       "heating             0\n",
       "condition2          0\n",
       "street              0\n",
       "paveddrive          0\n",
       "lotshape            0\n",
       "landcontour         0\n",
       "lotconfig           0\n",
       "landslope           0\n",
       "neighborhood        0\n",
       "condition1          0\n",
       "roofstyle           0\n",
       "bldgtype            0\n",
       "housestyle          0\n",
       "heatingqc           0\n",
       "roofmatl            0\n",
       "exterqual           0\n",
       "extercond           0\n",
       "foundation          0\n",
       "electrical          0\n",
       "centralair          0\n",
       "salecondition       0\n",
       "dtype: int64"
      ]
     },
     "execution_count": 49,
     "metadata": {},
     "output_type": "execute_result"
    }
   ],
   "source": [
    "percent_null = (housing_data_test_categories.isnull().sum())\n",
    "percent_null.sort_values(ascending=False)"
   ]
  },
  {
   "cell_type": "code",
   "execution_count": 50,
   "metadata": {
    "collapsed": false
   },
   "outputs": [
    {
     "data": {
      "text/plain": [
       "lotfrontage      227\n",
       "garageyrblt       78\n",
       "masvnrarea        15\n",
       "bsmthalfbath       2\n",
       "bsmtfullbath       2\n",
       "garagearea         1\n",
       "bsmtfinsf1         1\n",
       "bsmtfinsf2         1\n",
       "bsmtunfsf          1\n",
       "totalbsmtsf        1\n",
       "garagecars         1\n",
       "overallqual        0\n",
       "overallcond        0\n",
       "yearbuilt          0\n",
       "yearremodadd       0\n",
       "lowqualfinsf       0\n",
       "lotarea            0\n",
       "mssubclass         0\n",
       "1stflrsf           0\n",
       "2ndflrsf           0\n",
       "yrsold             0\n",
       "grlivarea          0\n",
       "mosold             0\n",
       "fullbath           0\n",
       "halfbath           0\n",
       "bedroomabvgr       0\n",
       "kitchenabvgr       0\n",
       "totrmsabvgrd       0\n",
       "fireplaces         0\n",
       "wooddecksf         0\n",
       "openporchsf        0\n",
       "enclosedporch      0\n",
       "3ssnporch          0\n",
       "screenporch        0\n",
       "poolarea           0\n",
       "miscval            0\n",
       "id                 0\n",
       "dtype: int64"
      ]
     },
     "execution_count": 50,
     "metadata": {},
     "output_type": "execute_result"
    }
   ],
   "source": [
    "numeric_percent_null = (housing_data_test_numeric.isnull().sum())\n",
    "numeric_percent_null.sort_values(ascending=False)"
   ]
  },
  {
   "cell_type": "code",
   "execution_count": 51,
   "metadata": {
    "collapsed": false
   },
   "outputs": [],
   "source": [
    "category_drop = ['alley','poolqc','fence','miscfeature']\n",
    "for column in category_drop:\n",
    "    housing_data_test_categories = housing_data_test_categories.drop(column, axis=1)"
   ]
  },
  {
   "cell_type": "code",
   "execution_count": 52,
   "metadata": {
    "collapsed": false
   },
   "outputs": [],
   "source": [
    "housing_data_test_numeric = housing_data_test_numeric.drop(['lotfrontage'], axis=1)"
   ]
  },
  {
   "cell_type": "code",
   "execution_count": 53,
   "metadata": {
    "collapsed": false
   },
   "outputs": [],
   "source": [
    "test_median_per_column = housing_data_test_numeric.apply(lambda x: x.median(),axis=0)\n",
    "test_median_filled = housing_data_test_numeric.fillna(test_median_per_column,axis=0)"
   ]
  },
  {
   "cell_type": "code",
   "execution_count": 54,
   "metadata": {
    "collapsed": false
   },
   "outputs": [],
   "source": [
    "test_most_frequent_values = housing_data_test_categories.apply(get_most_frequent_value,axis=0)\n",
    "test_most_frequent = housing_data_test_categories.fillna(test_most_frequent_values,axis=0)"
   ]
  },
  {
   "cell_type": "code",
   "execution_count": 55,
   "metadata": {
    "collapsed": false
   },
   "outputs": [],
   "source": [
    "housing_labels_test = test_most_frequent.apply(LabelEncoder().fit_transform)"
   ]
  },
  {
   "cell_type": "code",
   "execution_count": 56,
   "metadata": {
    "collapsed": true
   },
   "outputs": [],
   "source": [
    "housing_X_test = test_median_filled.merge(housing_labels_test, left_index=True,\n",
    "                                            right_index=True)"
   ]
  },
  {
   "cell_type": "code",
   "execution_count": 57,
   "metadata": {
    "collapsed": false
   },
   "outputs": [
    {
     "data": {
      "text/plain": [
       "(1460, 75)"
      ]
     },
     "execution_count": 57,
     "metadata": {},
     "output_type": "execute_result"
    }
   ],
   "source": [
    "housing_X_labels.shape"
   ]
  },
  {
   "cell_type": "code",
   "execution_count": 58,
   "metadata": {
    "collapsed": false
   },
   "outputs": [
    {
     "data": {
      "text/plain": [
       "(1459, 75)"
      ]
     },
     "execution_count": 58,
     "metadata": {},
     "output_type": "execute_result"
    }
   ],
   "source": [
    "housing_X_test.shape"
   ]
  },
  {
   "cell_type": "code",
   "execution_count": 59,
   "metadata": {
    "collapsed": false
   },
   "outputs": [],
   "source": [
    "housing_X_test['saleprice'] = rf_grid.predict(housing_X_test).astype('int')"
   ]
  },
  {
   "cell_type": "code",
   "execution_count": 60,
   "metadata": {
    "collapsed": false
   },
   "outputs": [],
   "source": [
    "pred_columns = ['id','saleprice']\n",
    "housing_X_test_labels_pred = housing_X_test[pred_columns]"
   ]
  },
  {
   "cell_type": "code",
   "execution_count": 61,
   "metadata": {
    "collapsed": false
   },
   "outputs": [
    {
     "data": {
      "text/plain": [
       "(1459, 2)"
      ]
     },
     "execution_count": 61,
     "metadata": {},
     "output_type": "execute_result"
    }
   ],
   "source": [
    "housing_X_test_labels_pred.shape"
   ]
  },
  {
   "cell_type": "code",
   "execution_count": 62,
   "metadata": {
    "collapsed": false
   },
   "outputs": [],
   "source": [
    "housing_X_test_labels_pred.to_csv('../data/submission.csv',index=False)"
   ]
  },
  {
   "cell_type": "markdown",
   "metadata": {},
   "source": [
    "## Submit Predictions to Kaggle"
   ]
  },
  {
   "cell_type": "markdown",
   "metadata": {},
   "source": [
    "![kaggle_submission](../images/kaggle.jpg)"
   ]
  },
  {
   "cell_type": "markdown",
   "metadata": {},
   "source": [
    "## Things I noticed\n",
    "1. The more features I removed the less accurate the model became\n",
    "2. Label encoder is better than using the get_dummies function\n",
    "3. I have no idea how to use GradientBoostRegressor\n",
    "4. Scaling the data does not matter with Random Forest\n",
    "5. Using the Median to impute numerical data rather than Mean was more accurate. Most likely due to all of the outliers."
   ]
  },
  {
   "cell_type": "code",
   "execution_count": null,
   "metadata": {
    "collapsed": true
   },
   "outputs": [],
   "source": []
  }
 ],
 "metadata": {
  "kernelspec": {
   "display_name": "Python 2",
   "language": "python",
   "name": "python2"
  },
  "language_info": {
   "codemirror_mode": {
    "name": "ipython",
    "version": 2
   },
   "file_extension": ".py",
   "mimetype": "text/x-python",
   "name": "python",
   "nbconvert_exporter": "python",
   "pygments_lexer": "ipython2",
   "version": "2.7.13"
  }
 },
 "nbformat": 4,
 "nbformat_minor": 2
}
